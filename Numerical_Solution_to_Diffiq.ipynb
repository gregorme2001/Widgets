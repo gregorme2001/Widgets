{
  "nbformat": 4,
  "nbformat_minor": 0,
  "metadata": {
    "colab": {
      "name": "Numerical Solution to Diffiq.ipynb",
      "provenance": []
    },
    "kernelspec": {
      "name": "python3",
      "display_name": "Python 3"
    }
  },
  "cells": [
    {
      "cell_type": "code",
      "metadata": {
        "id": "RVnu0GdsnjPr"
      },
      "source": [
        "from math import *\n",
        "import matplotlib.pyplot as plt"
      ],
      "execution_count": 59,
      "outputs": []
    },
    {
      "cell_type": "code",
      "metadata": {
        "id": "eTusnykXnrWh"
      },
      "source": [
        "#func is our differnetial equation, normal form \n",
        "#specificity is length of steps for calculation\n",
        "#point tuple is initial value \n",
        "def show_numerical_solution(point_tuple, upper_x, upper_y, lower_x, lower_y, derivative_function, specificity):\n",
        "  right_points_x = []\n",
        "  right_points_y = []\n",
        "  x_coordinate = point_tuple[0]\n",
        "  y_coordinate = point_tuple[1]\n",
        "  #moving rightward from point\n",
        "  while x_coordinate < upper_x and y_coordinate < upper_y:\n",
        "    local_derivative = derivative_function(x_coordinate, y_coordinate)\n",
        "    x_coordinate += specificity\n",
        "    y_coordinate += specificity*local_derivative\n",
        "    if type(x_coordinate) == complex:\n",
        "      x_coordinate = x_coordinate.real\n",
        "    if type(y_coordinate) == complex:\n",
        "      y_coordinate = y_coordinate.real \n",
        "    right_points_x.append(x_coordinate)\n",
        "    right_points_y.append(y_coordinate)\n",
        "  #moving leftward from point\n",
        "  left_points_x = [] \n",
        "  left_points_y = [] \n",
        "  x_coordinate = point_tuple[0]\n",
        "  y_coordinate = point_tuple[1]\n",
        "  while x_coordinate > lower_x and y_coordinate > lower_y:\n",
        "    local_derivative = derivative_function(x_coordinate, y_coordinate)\n",
        "    x_coordinate -= specificity\n",
        "    y_coordinate -= specificity*local_derivative \n",
        "    if type(x_coordinate) == complex:\n",
        "      x_coordinate = x_coordinate.real\n",
        "    if type(y_coordinate) == complex:\n",
        "      y_coordinate = y_coordinate.real \n",
        "    left_points_x.append(x_coordinate)\n",
        "    left_points_y.append(y_coordinate)\n",
        "  #need to reverse the left arrays before we concatenate, since they were generated right to left\n",
        "  left_points_x.reverse()\n",
        "  left_points_y.reverse()\n",
        "  x_values = left_points_x + right_points_x\n",
        "  y_values = left_points_y + right_points_y \n",
        "  plt.plot(y_values, x_values)\n"
      ],
      "execution_count": 60,
      "outputs": []
    },
    {
      "cell_type": "code",
      "metadata": {
        "colab": {
          "base_uri": "https://localhost:8080/",
          "height": 265
        },
        "id": "2l1svlNKJyIi",
        "outputId": "932fe21f-8401-480b-ad2e-03f4bad65f1f"
      },
      "source": [
        "def func(x, y):\n",
        "  return (x*y)**(1/3)\n",
        "show_numerical_solution((2, 3), 10, 10, -10, -10, func, 0.0001)  "
      ],
      "execution_count": 61,
      "outputs": [
        {
          "output_type": "display_data",
          "data": {
            "image/png": "[encoded data removed]",
            "text/plain": [
              "<Figure size 432x288 with 1 Axes>"
            ]
          },
          "metadata": {
            "tags": [],
            "needs_background": "light"
          }
        }
      ]
    }
  ]
}