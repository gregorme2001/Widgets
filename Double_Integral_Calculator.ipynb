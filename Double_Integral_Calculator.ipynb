{
  "nbformat": 4,
  "nbformat_minor": 0,
  "metadata": {
    "colab": {
      "name": "Double Integral Calculator.ipynb",
      "provenance": []
    },
    "kernelspec": {
      "name": "python3",
      "display_name": "Python 3"
    },
    "accelerator": "GPU"
  },
  "cells": [
    {
      "cell_type": "code",
      "metadata": {
        "id": "krqq9neoLZ1Z"
      },
      "source": [
        "#calculate double integral over rectangle\n",
        "from math import *\n",
        "def double_integral_rectangle(function, lower_x, upper_x, lower_y, upper_y, size_interval):\n",
        "    total_value = 0\n",
        "    for i in range(int((upper_y-lower_y)/size_interval)):\n",
        "        for j in range(int((upper_x-lower_x)/size_interval)):\n",
        "            local_value = function((lower_x + j*size_interval), (lower_y + i*size_interval))*(size_interval**2)\n",
        "            total_value += local_value\n",
        "    return total_value"
      ],
      "execution_count": 2,
      "outputs": []
    },
    {
      "cell_type": "code",
      "metadata": {
        "colab": {
          "base_uri": "https://localhost:8080/"
        },
        "id": "xL7jHv0DLhof",
        "outputId": "4ecac318-41bc-47b8-926a-72bd899ef08f"
      },
      "source": [
        "def func(x, y):\n",
        "    return exp(-x**2-y**2)\n",
        "z = double_integral_rectangle(func, -1, 1, -1, 1, 0.001)\n",
        "print(z)"
      ],
      "execution_count": 3,
      "outputs": [
        {
          "output_type": "stream",
          "text": [
            "2.2309847750826926\n"
          ],
          "name": "stdout"
        }
      ]
    },
    {
      "cell_type": "code",
      "metadata": {
        "id": "dNzujCiULlUN"
      },
      "source": [
        "#calculate numerical double integral over any vertically integrable region\n",
        "#note, any horizontally integrable region can be integrated vertically by interchanging x and y\n",
        "def double_integral_vertical(function, lower_x, upper_x, lower_y, upper_y, size_interval):\n",
        "    total_value = 0\n",
        "    for i in range(int((upper_x-lower_x)/size_interval)):\n",
        "        for j in range(int((upper_y(lower_x+i*size_interval)-lower_y(lower_x+i*size_interval))/size_interval)):\n",
        "            local_value = function((lower_x + i*size_interval), lower_y(lower_x+i*size_interval)+j*size_interval)*(size_interval**2)\n",
        "            total_value += local_value\n",
        "            #if j % 400000 == 0:\n",
        "                #print(total_value)\n",
        "    return total_value"
      ],
      "execution_count": 4,
      "outputs": []
    },
    {
      "cell_type": "code",
      "metadata": {
        "colab": {
          "base_uri": "https://localhost:8080/"
        },
        "id": "kYhZu2RYLo2V",
        "outputId": "0af5d5d1-1b94-41e9-e4b4-0ece26780f9f"
      },
      "source": [
        "#estimate the value of pi\n",
        "def func(x, y):\n",
        "    return 1\n",
        "def upper_y(x):\n",
        "    return (1-x**2)**0.5\n",
        "def lower_y(x):\n",
        "    return 0\n",
        "z = double_integral_vertical(func, 0, 1, lower_y, upper_y, 0.0001)\n",
        "print(4*z)"
      ],
      "execution_count": 5,
      "outputs": [
        {
          "output_type": "stream",
          "text": [
            "3.141590324846167\n"
          ],
          "name": "stdout"
        }
      ]
    }
  ]
}