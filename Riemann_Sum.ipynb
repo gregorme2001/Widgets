{
  "nbformat": 4,
  "nbformat_minor": 0,
  "metadata": {
    "colab": {
      "name": "Riemann Sum.ipynb",
      "provenance": []
    },
    "kernelspec": {
      "name": "python3",
      "display_name": "Python 3"
    }
  },
  "cells": [
    {
      "cell_type": "code",
      "metadata": {
        "id": "pZsKmquSN_xI"
      },
      "source": [
        "#riemann sum on polynomial, midpoint\n",
        "from math import *\n",
        "import numpy as np\n",
        "def riemann_sum_poly(polynomial, x1, x2, num_intervals):\n",
        "    p = np.poly1d(polynomial)\n",
        "    size_interval = (x2-x1)/num_intervals\n",
        "    increment = x1 + size_interval/2\n",
        "    count = 0\n",
        "    for i in range(num_intervals):\n",
        "        count += (p(increment)*size_interval)\n",
        "        increment+=size_interval\n",
        "    print(count)  "
      ],
      "execution_count": 1,
      "outputs": []
    },
    {
      "cell_type": "code",
      "metadata": {
        "colab": {
          "base_uri": "https://localhost:8080/"
        },
        "id": "Mk3k9iNNOGJE",
        "outputId": "70e9ea47-fe6d-44ab-cd67-5ee7e690d4d9"
      },
      "source": [
        "riemann_sum_poly([3, 2, -27, 4], 0, 10, 100000)"
      ],
      "execution_count": 2,
      "outputs": [
        {
          "output_type": "stream",
          "text": [
            "6856.666666261556\n"
          ],
          "name": "stdout"
        }
      ]
    },
    {
      "cell_type": "code",
      "metadata": {
        "id": "aAaOncYOOIBl"
      },
      "source": [
        "# riemann sum on any function, midpoint\n",
        "from math import *\n",
        "\n",
        "def riemann_sum(function, x1, x2, num_intervals):\n",
        "    size_interval = (x2-x1)/num_intervals\n",
        "    increment = x1 + size_interval/2\n",
        "    count = 0\n",
        "    for i in range(num_intervals):\n",
        "        count += (function(increment)*size_interval)\n",
        "        increment+=size_interval\n",
        "    print(count)  "
      ],
      "execution_count": 3,
      "outputs": []
    },
    {
      "cell_type": "code",
      "metadata": {
        "colab": {
          "base_uri": "https://localhost:8080/"
        },
        "id": "wHD4w54gOJMU",
        "outputId": "0dc9310c-839b-4fc2-cc57-3d0a7e2faae9"
      },
      "source": [
        "def f(t): \n",
        "    return np.exp(-t)*cos(t)\n",
        "riemann_sum(f, 0, 12.566368, 10000000)"
      ],
      "execution_count": 4,
      "outputs": [
        {
          "output_type": "stream",
          "text": [
            "0.49999825632267764\n"
          ],
          "name": "stdout"
        }
      ]
    }
  ]
}